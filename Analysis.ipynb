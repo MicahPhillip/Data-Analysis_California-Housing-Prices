{
 "cells": [
  {
   "cell_type": "markdown",
   "metadata": {},
   "source": [
    "# This notebook containes the code used to analyze and model the housing prices in California in 1990 using the California census data "
   ]
  },
  {
   "cell_type": "markdown",
   "metadata": {},
   "source": [
    "![California](map.png)"
   ]
  },
  {
   "cell_type": "markdown",
   "metadata": {},
   "source": [
    "## Importing dependancies"
   ]
  },
  {
   "cell_type": "code",
   "execution_count": 2,
   "metadata": {},
   "outputs": [],
   "source": [
    "import os\n",
    "import numpy as np\n",
    "import pandas as pd\n",
    "import matplotlib\n",
    "import sklearn as sk\n",
    "import tarfile\n",
    "from six.moves import urllib"
   ]
  },
  {
   "cell_type": "markdown",
   "metadata": {},
   "source": [
    "## Importing the calafornia housing prices dataset"
   ]
  },
  {
   "cell_type": "code",
   "execution_count": 15,
   "metadata": {},
   "outputs": [],
   "source": [
    "DOWNLOAD_ROOT = \"https://raw.githubusercontent.com/ageron/handson-ml2/master/\"\n",
    "HOUSING_PATH = os.path.join(os.getcwd(), \"datasets\", \"housing\")\n",
    "HOUSING_URL =   DOWNLOAD_ROOT   + \"datasets/housing/housing.tgz\""
   ]
  },
  {
   "cell_type": "code",
   "execution_count": 16,
   "metadata": {},
   "outputs": [],
   "source": [
    "# This function is used to download and extract the california housing prices dataset\n",
    "def fetch_housing_data(housing_url=HOUSING_URL, housing_path = HOUSING_PATH):\n",
    "    if os.path.isdir(housing_path)==False:\n",
    "        os.makedirs(housing_path)\n",
    "        print(\"creating directory at: \", housing_path)\n",
    "    print(\"directory already exists. retrieving housing.tgz\")\n",
    "    tgz_path = os.path.join(housing_path, \"housing.tgz\")\n",
    "    urllib.request.urlretrieve(housing_url, tgz_path)\n",
    "    housing_tgz = tarfile.open(tgz_path)\n",
    "    housing_tgz.extractall(path=housing_path)\n",
    "    housing_tgz.close()"
   ]
  },
  {
   "cell_type": "code",
   "execution_count": 18,
   "metadata": {},
   "outputs": [
    {
     "name": "stdout",
     "output_type": "stream",
     "text": [
      "creating directory at:  c:\\Repos\\Data_Analysis-California_Housing_Prices\\datasets\\housing\n",
      "directory already exists. retrieving housing.tgz\n",
      "c:\\Repos\\Data_Analysis-California_Housing_Prices\\datasets\\housing\n"
     ]
    }
   ],
   "source": [
    "fetch_housing_data()"
   ]
  },
  {
   "cell_type": "markdown",
   "metadata": {},
   "source": [
    "## Putting data into pandas dataframe"
   ]
  },
  {
   "cell_type": "code",
   "execution_count": null,
   "metadata": {},
   "outputs": [],
   "source": []
  }
 ],
 "metadata": {
  "kernelspec": {
   "display_name": "Python 3.8.13 ('Standard_ML')",
   "language": "python",
   "name": "python3"
  },
  "language_info": {
   "codemirror_mode": {
    "name": "ipython",
    "version": 3
   },
   "file_extension": ".py",
   "mimetype": "text/x-python",
   "name": "python",
   "nbconvert_exporter": "python",
   "pygments_lexer": "ipython3",
   "version": "3.8.13"
  },
  "orig_nbformat": 4,
  "vscode": {
   "interpreter": {
    "hash": "ada487c6ca5166ff299424b2f8b8a632e2cdfcb390071a8b49be4a3e3746f4d2"
   }
  }
 },
 "nbformat": 4,
 "nbformat_minor": 2
}
